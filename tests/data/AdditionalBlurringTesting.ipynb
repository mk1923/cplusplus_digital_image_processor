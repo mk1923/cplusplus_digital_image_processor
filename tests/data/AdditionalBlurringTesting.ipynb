{
 "cells": [
  {
   "cell_type": "markdown",
   "id": "098d6ce0",
   "metadata": {},
   "source": [
    "## Using scipy to compute the 'ground-truth' matrices"
   ]
  },
  {
   "cell_type": "code",
   "execution_count": 6,
   "id": "2d38b26b",
   "metadata": {},
   "outputs": [],
   "source": [
    "import scipy\n",
    "from scipy.stats import multivariate_normal\n",
    "from scipy.ndimage import convolve\n",
    "import numpy as np"
   ]
  },
  {
   "cell_type": "code",
   "execution_count": 18,
   "id": "986f52fa",
   "metadata": {},
   "outputs": [],
   "source": [
    "def create_2d_gaussian_kernel(kernel_size, sigma=1.0):\n",
    "    \"\"\"Create a 2D Gaussian kernel with the specified size and sigma.\"\"\"\n",
    "    # Create a grid of (x,y) coordinates at which to evaluate the kernel\n",
    "    kernel_range = np.arange(-kernel_size // 2 + 1, kernel_size // 2 + 1)\n",
    "    x, y = np.meshgrid(kernel_range, kernel_range)\n",
    "    \n",
    "    # Calculate the 2D Gaussian\n",
    "    pos = np.empty(x.shape + (2,))\n",
    "    pos[:, :, 0] = x\n",
    "    pos[:, :, 1] = y\n",
    "    kernel = multivariate_normal(mean=[0, 0], cov=np.eye(2) * sigma**2).pdf(pos)\n",
    "    \n",
    "    # Normalize the kernel so the sum of all elements is 1\n",
    "    kernel /= kernel.sum()\n",
    "    \n",
    "    return kernel"
   ]
  },
  {
   "cell_type": "code",
   "execution_count": 19,
   "id": "2ecc1084",
   "metadata": {},
   "outputs": [],
   "source": [
    "def create_mean_kernel(kernel_size):\n",
    "    average_kernel = np.ones((kernel_size, kernel_size), dtype=np.float32) / (kernel_size * kernel_size)\n",
    "    \n",
    "    return average_kernel"
   ]
  },
  {
   "cell_type": "markdown",
   "id": "5c449389",
   "metadata": {},
   "source": [
    "### Test 1 : Check Computation"
   ]
  },
  {
   "cell_type": "code",
   "execution_count": 21,
   "id": "1f9c7e15",
   "metadata": {},
   "outputs": [],
   "source": [
    "kernel_size = 3  # Specify the size of the kernel (must be an odd number)\n",
    "sigma = 1.0\n",
    "\n",
    "original_array = np.array([[0,0,0,0,0],\n",
    "                          [0,0,0,0,0],\n",
    "                         [0,0,255,0,0],\n",
    "                         [0,0,0,0,0],\n",
    "                         [0,0,0,0,0]])\n",
    "\n",
    "mean_kernel_2d = create_mean_kernel(kernel_size)\n",
    "gaussian_kernel_2d = create_2d_gaussian_kernel(kernel_size, sigma)\n",
    "\n",
    "# Now convolve the original array with the 3D Gaussian kernel\n",
    "filtered_array_mean = convolve(original_array, mean_kernel_2d, mode='nearest')\n",
    "filtered_array_gaussian = convolve(original_array, gaussian_kernel_2d, mode='nearest')"
   ]
  },
  {
   "cell_type": "code",
   "execution_count": 22,
   "id": "1d9e4e7c",
   "metadata": {},
   "outputs": [
    {
     "data": {
      "text/plain": [
       "array([[ 0,  0,  0,  0,  0],\n",
       "       [ 0, 28, 28, 28,  0],\n",
       "       [ 0, 28, 28, 28,  0],\n",
       "       [ 0, 28, 28, 28,  0],\n",
       "       [ 0,  0,  0,  0,  0]])"
      ]
     },
     "execution_count": 22,
     "metadata": {},
     "output_type": "execute_result"
    }
   ],
   "source": [
    "filtered_array_mean"
   ]
  },
  {
   "cell_type": "code",
   "execution_count": 23,
   "id": "2edb80ef",
   "metadata": {
    "scrolled": true
   },
   "outputs": [
    {
     "data": {
      "text/plain": [
       "array([[ 0,  0,  0,  0,  0],\n",
       "       [ 0, 19, 31, 19,  0],\n",
       "       [ 0, 31, 52, 31,  0],\n",
       "       [ 0, 19, 31, 19,  0],\n",
       "       [ 0,  0,  0,  0,  0]])"
      ]
     },
     "execution_count": 23,
     "metadata": {},
     "output_type": "execute_result"
    }
   ],
   "source": [
    "filtered_array_gaussian"
   ]
  },
  {
   "cell_type": "code",
   "execution_count": 33,
   "id": "9efa097a",
   "metadata": {},
   "outputs": [],
   "source": [
    "kernel_size = 5  # Specify the size of the kernel (must be an odd number)\n",
    "sigma = 1.0\n",
    "\n",
    "original_array = np.array([[0,0,0,0,0],\n",
    "                          [0,0,0,0,0],\n",
    "                         [0,0,255,0,0],\n",
    "                         [0,0,0,0,0],\n",
    "                         [0,0,0,0,0]])\n",
    "\n",
    "mean_kernel_2d = create_mean_kernel(kernel_size)\n",
    "gaussian_kernel_2d = create_2d_gaussian_kernel(kernel_size, sigma)\n",
    "\n",
    "# Now convolve the original array with the 3D Gaussian kernel\n",
    "filtered_array_mean = convolve(original_array, mean_kernel_2d, mode='nearest')\n",
    "filtered_array_gaussian = convolve(original_array, gaussian_kernel_2d, mode='nearest')"
   ]
  },
  {
   "cell_type": "code",
   "execution_count": 34,
   "id": "88bb6768",
   "metadata": {},
   "outputs": [
    {
     "data": {
      "text/plain": [
       "array([[10, 10, 10, 10, 10],\n",
       "       [10, 10, 10, 10, 10],\n",
       "       [10, 10, 10, 10, 10],\n",
       "       [10, 10, 10, 10, 10],\n",
       "       [10, 10, 10, 10, 10]])"
      ]
     },
     "execution_count": 34,
     "metadata": {},
     "output_type": "execute_result"
    }
   ],
   "source": [
    "filtered_array_mean"
   ]
  },
  {
   "cell_type": "code",
   "execution_count": 35,
   "id": "6d616267",
   "metadata": {},
   "outputs": [
    {
     "data": {
      "text/plain": [
       "array([[ 0,  3,  5,  3,  0],\n",
       "       [ 3, 15, 25, 15,  3],\n",
       "       [ 5, 25, 41, 25,  5],\n",
       "       [ 3, 15, 25, 15,  3],\n",
       "       [ 0,  3,  5,  3,  0]])"
      ]
     },
     "execution_count": 35,
     "metadata": {},
     "output_type": "execute_result"
    }
   ],
   "source": [
    "filtered_array_gaussian"
   ]
  },
  {
   "cell_type": "markdown",
   "id": "211b2586",
   "metadata": {},
   "source": [
    "### Test 2 : Check Boundary"
   ]
  },
  {
   "cell_type": "code",
   "execution_count": 39,
   "id": "237f3196",
   "metadata": {},
   "outputs": [],
   "source": [
    "kernel_size = 3  # Specify the size of the kernel (must be an odd number)\n",
    "sigma = 1.0\n",
    "\n",
    "original_array = np.array([[255,0,0,0,255],\n",
    "                          [0,0,0,0,0],\n",
    "                         [0,0,0,0,0],\n",
    "                         [0,0,0,0,0],\n",
    "                         [255,0,0,0,255]])\n",
    "\n",
    "mean_kernel_2d = create_mean_kernel(kernel_size)\n",
    "gaussian_kernel_2d = create_2d_gaussian_kernel(kernel_size, sigma)\n",
    "\n",
    "# Now convolve the original array with the 3D Gaussian kernel\n",
    "filtered_array_mean = convolve(original_array, mean_kernel_2d, mode='nearest')\n",
    "filtered_array_gaussian = convolve(original_array, gaussian_kernel_2d, mode='nearest')"
   ]
  },
  {
   "cell_type": "code",
   "execution_count": 40,
   "id": "9e964e69",
   "metadata": {},
   "outputs": [
    {
     "data": {
      "text/plain": [
       "array([[113,  56,   0,  56, 113],\n",
       "       [ 56,  28,   0,  28,  56],\n",
       "       [  0,   0,   0,   0,   0],\n",
       "       [ 56,  28,   0,  28,  56],\n",
       "       [113,  56,   0,  56, 113]])"
      ]
     },
     "execution_count": 40,
     "metadata": {},
     "output_type": "execute_result"
    }
   ],
   "source": [
    "filtered_array_mean"
   ]
  },
  {
   "cell_type": "code",
   "execution_count": 41,
   "id": "d61e5e18",
   "metadata": {},
   "outputs": [
    {
     "data": {
      "text/plain": [
       "array([[134,  50,   0,  50, 134],\n",
       "       [ 50,  19,   0,  19,  50],\n",
       "       [  0,   0,   0,   0,   0],\n",
       "       [ 50,  19,   0,  19,  50],\n",
       "       [134,  50,   0,  50, 134]])"
      ]
     },
     "execution_count": 41,
     "metadata": {},
     "output_type": "execute_result"
    }
   ],
   "source": [
    "filtered_array_gaussian"
   ]
  },
  {
   "cell_type": "code",
   "execution_count": 42,
   "id": "9ef51606",
   "metadata": {},
   "outputs": [],
   "source": [
    "kernel_size = 5  # Specify the size of the kernel (must be an odd number)\n",
    "sigma = 1.0\n",
    "\n",
    "original_array = np.array([[255,0,0,0,255],\n",
    "                          [0,0,0,0,0],\n",
    "                         [0,0,0,0,0],\n",
    "                         [0,0,0,0,0],\n",
    "                         [255,0,0,0,255]])\n",
    "\n",
    "mean_kernel_2d = create_mean_kernel(kernel_size)\n",
    "gaussian_kernel_2d = create_2d_gaussian_kernel(kernel_size, sigma)\n",
    "\n",
    "# Now convolve the original array with the 3D Gaussian kernel\n",
    "filtered_array_mean = convolve(original_array, mean_kernel_2d, mode='nearest')\n",
    "filtered_array_gaussian = convolve(original_array, gaussian_kernel_2d, mode='nearest')"
   ]
  },
  {
   "cell_type": "code",
   "execution_count": 43,
   "id": "d4ed3eb4",
   "metadata": {},
   "outputs": [
    {
     "data": {
      "text/plain": [
       "array([[91, 61, 61, 61, 91],\n",
       "       [61, 40, 40, 40, 61],\n",
       "       [61, 40, 40, 40, 61],\n",
       "       [61, 40, 40, 40, 61],\n",
       "       [91, 61, 61, 61, 91]])"
      ]
     },
     "execution_count": 43,
     "metadata": {},
     "output_type": "execute_result"
    }
   ],
   "source": [
    "filtered_array_mean"
   ]
  },
  {
   "cell_type": "code",
   "execution_count": 44,
   "id": "44a406e8",
   "metadata": {},
   "outputs": [
    {
     "data": {
      "text/plain": [
       "array([[125,  53,  19,  53, 125],\n",
       "       [ 53,  22,   8,  22,  53],\n",
       "       [ 19,   8,   3,   8,  19],\n",
       "       [ 53,  22,   8,  22,  53],\n",
       "       [125,  53,  19,  53, 125]])"
      ]
     },
     "execution_count": 44,
     "metadata": {},
     "output_type": "execute_result"
    }
   ],
   "source": [
    "filtered_array_gaussian"
   ]
  }
 ],
 "metadata": {
  "kernelspec": {
   "display_name": "Python 3 (ipykernel)",
   "language": "python",
   "name": "python3"
  },
  "language_info": {
   "codemirror_mode": {
    "name": "ipython",
    "version": 3
   },
   "file_extension": ".py",
   "mimetype": "text/x-python",
   "name": "python",
   "nbconvert_exporter": "python",
   "pygments_lexer": "ipython3",
   "version": "3.11.5"
  }
 },
 "nbformat": 4,
 "nbformat_minor": 5
}
